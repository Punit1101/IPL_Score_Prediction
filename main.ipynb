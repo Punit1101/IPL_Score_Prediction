{
 "cells": [
  {
   "cell_type": "markdown",
   "id": "76001109",
   "metadata": {},
   "source": [
    "## Import library"
   ]
  },
  {
   "cell_type": "code",
   "execution_count": 18,
   "id": "6e33b6b3",
   "metadata": {},
   "outputs": [],
   "source": [
    "import pandas as pd\n",
    "import numpy as np\n",
    "import seaborn as sns\n",
    "import matplotlib.pyplot as plt\n",
    "import os\n",
    "from sklearn.linear_model import LinearRegression\n",
    "from sklearn.metrics import mean_absolute_error as mae, mean_squared_error as mse, accuracy_score\n",
    "from sklearn.tree import DecisionTreeRegressor\n",
    "from sklearn.ensemble import RandomForestRegressor\n",
    "from sklearn.ensemble import AdaBoostRegressor\n",
    "import pickle\n",
    "from datetime import datetime"
   ]
  },
  {
   "cell_type": "markdown",
   "id": "2cff2f31",
   "metadata": {},
   "source": [
    "## DataSet"
   ]
  },
  {
   "cell_type": "code",
   "execution_count": 19,
   "id": "5aa40a83",
   "metadata": {},
   "outputs": [],
   "source": [
    "data= pd.read_csv('ipl.csv')"
   ]
  },
  {
   "cell_type": "code",
   "execution_count": 20,
   "id": "d13caceb",
   "metadata": {},
   "outputs": [
    {
     "data": {
      "text/plain": [
       "(76014, 15)"
      ]
     },
     "execution_count": 20,
     "metadata": {},
     "output_type": "execute_result"
    }
   ],
   "source": [
    "data.shape"
   ]
  },
  {
   "cell_type": "code",
   "execution_count": 21,
   "id": "31ebf47e",
   "metadata": {},
   "outputs": [
    {
     "data": {
      "text/html": [
       "<div>\n",
       "<style scoped>\n",
       "    .dataframe tbody tr th:only-of-type {\n",
       "        vertical-align: middle;\n",
       "    }\n",
       "\n",
       "    .dataframe tbody tr th {\n",
       "        vertical-align: top;\n",
       "    }\n",
       "\n",
       "    .dataframe thead th {\n",
       "        text-align: right;\n",
       "    }\n",
       "</style>\n",
       "<table border=\"1\" class=\"dataframe\">\n",
       "  <thead>\n",
       "    <tr style=\"text-align: right;\">\n",
       "      <th></th>\n",
       "      <th>mid</th>\n",
       "      <th>date</th>\n",
       "      <th>venue</th>\n",
       "      <th>bat_team</th>\n",
       "      <th>bowl_team</th>\n",
       "      <th>batsman</th>\n",
       "      <th>bowler</th>\n",
       "      <th>runs</th>\n",
       "      <th>wickets</th>\n",
       "      <th>overs</th>\n",
       "      <th>runs_last_5</th>\n",
       "      <th>wickets_last_5</th>\n",
       "      <th>striker</th>\n",
       "      <th>non-striker</th>\n",
       "      <th>total</th>\n",
       "    </tr>\n",
       "  </thead>\n",
       "  <tbody>\n",
       "    <tr>\n",
       "      <th>0</th>\n",
       "      <td>1</td>\n",
       "      <td>2008-04-18</td>\n",
       "      <td>M Chinnaswamy Stadium</td>\n",
       "      <td>Kolkata Knight Riders</td>\n",
       "      <td>Royal Challengers Bangalore</td>\n",
       "      <td>SC Ganguly</td>\n",
       "      <td>P Kumar</td>\n",
       "      <td>1</td>\n",
       "      <td>0</td>\n",
       "      <td>0.1</td>\n",
       "      <td>1</td>\n",
       "      <td>0</td>\n",
       "      <td>0</td>\n",
       "      <td>0</td>\n",
       "      <td>222</td>\n",
       "    </tr>\n",
       "    <tr>\n",
       "      <th>1</th>\n",
       "      <td>1</td>\n",
       "      <td>2008-04-18</td>\n",
       "      <td>M Chinnaswamy Stadium</td>\n",
       "      <td>Kolkata Knight Riders</td>\n",
       "      <td>Royal Challengers Bangalore</td>\n",
       "      <td>BB McCullum</td>\n",
       "      <td>P Kumar</td>\n",
       "      <td>1</td>\n",
       "      <td>0</td>\n",
       "      <td>0.2</td>\n",
       "      <td>1</td>\n",
       "      <td>0</td>\n",
       "      <td>0</td>\n",
       "      <td>0</td>\n",
       "      <td>222</td>\n",
       "    </tr>\n",
       "    <tr>\n",
       "      <th>2</th>\n",
       "      <td>1</td>\n",
       "      <td>2008-04-18</td>\n",
       "      <td>M Chinnaswamy Stadium</td>\n",
       "      <td>Kolkata Knight Riders</td>\n",
       "      <td>Royal Challengers Bangalore</td>\n",
       "      <td>BB McCullum</td>\n",
       "      <td>P Kumar</td>\n",
       "      <td>2</td>\n",
       "      <td>0</td>\n",
       "      <td>0.2</td>\n",
       "      <td>2</td>\n",
       "      <td>0</td>\n",
       "      <td>0</td>\n",
       "      <td>0</td>\n",
       "      <td>222</td>\n",
       "    </tr>\n",
       "    <tr>\n",
       "      <th>3</th>\n",
       "      <td>1</td>\n",
       "      <td>2008-04-18</td>\n",
       "      <td>M Chinnaswamy Stadium</td>\n",
       "      <td>Kolkata Knight Riders</td>\n",
       "      <td>Royal Challengers Bangalore</td>\n",
       "      <td>BB McCullum</td>\n",
       "      <td>P Kumar</td>\n",
       "      <td>2</td>\n",
       "      <td>0</td>\n",
       "      <td>0.3</td>\n",
       "      <td>2</td>\n",
       "      <td>0</td>\n",
       "      <td>0</td>\n",
       "      <td>0</td>\n",
       "      <td>222</td>\n",
       "    </tr>\n",
       "    <tr>\n",
       "      <th>4</th>\n",
       "      <td>1</td>\n",
       "      <td>2008-04-18</td>\n",
       "      <td>M Chinnaswamy Stadium</td>\n",
       "      <td>Kolkata Knight Riders</td>\n",
       "      <td>Royal Challengers Bangalore</td>\n",
       "      <td>BB McCullum</td>\n",
       "      <td>P Kumar</td>\n",
       "      <td>2</td>\n",
       "      <td>0</td>\n",
       "      <td>0.4</td>\n",
       "      <td>2</td>\n",
       "      <td>0</td>\n",
       "      <td>0</td>\n",
       "      <td>0</td>\n",
       "      <td>222</td>\n",
       "    </tr>\n",
       "  </tbody>\n",
       "</table>\n",
       "</div>"
      ],
      "text/plain": [
       "   mid        date                  venue               bat_team  \\\n",
       "0    1  2008-04-18  M Chinnaswamy Stadium  Kolkata Knight Riders   \n",
       "1    1  2008-04-18  M Chinnaswamy Stadium  Kolkata Knight Riders   \n",
       "2    1  2008-04-18  M Chinnaswamy Stadium  Kolkata Knight Riders   \n",
       "3    1  2008-04-18  M Chinnaswamy Stadium  Kolkata Knight Riders   \n",
       "4    1  2008-04-18  M Chinnaswamy Stadium  Kolkata Knight Riders   \n",
       "\n",
       "                     bowl_team      batsman   bowler  runs  wickets  overs  \\\n",
       "0  Royal Challengers Bangalore   SC Ganguly  P Kumar     1        0    0.1   \n",
       "1  Royal Challengers Bangalore  BB McCullum  P Kumar     1        0    0.2   \n",
       "2  Royal Challengers Bangalore  BB McCullum  P Kumar     2        0    0.2   \n",
       "3  Royal Challengers Bangalore  BB McCullum  P Kumar     2        0    0.3   \n",
       "4  Royal Challengers Bangalore  BB McCullum  P Kumar     2        0    0.4   \n",
       "\n",
       "   runs_last_5  wickets_last_5  striker  non-striker  total  \n",
       "0            1               0        0            0    222  \n",
       "1            1               0        0            0    222  \n",
       "2            2               0        0            0    222  \n",
       "3            2               0        0            0    222  \n",
       "4            2               0        0            0    222  "
      ]
     },
     "execution_count": 21,
     "metadata": {},
     "output_type": "execute_result"
    }
   ],
   "source": [
    "data.head()"
   ]
  },
  {
   "cell_type": "code",
   "execution_count": 22,
   "id": "1b6a1748",
   "metadata": {},
   "outputs": [
    {
     "data": {
      "text/plain": [
       "mid                 int64\n",
       "date               object\n",
       "venue              object\n",
       "bat_team           object\n",
       "bowl_team          object\n",
       "batsman            object\n",
       "bowler             object\n",
       "runs                int64\n",
       "wickets             int64\n",
       "overs             float64\n",
       "runs_last_5         int64\n",
       "wickets_last_5      int64\n",
       "striker             int64\n",
       "non-striker         int64\n",
       "total               int64\n",
       "dtype: object"
      ]
     },
     "execution_count": 22,
     "metadata": {},
     "output_type": "execute_result"
    }
   ],
   "source": [
    "data.dtypes"
   ]
  },
  {
   "cell_type": "markdown",
   "id": "c88cd6b2",
   "metadata": {},
   "source": [
    "## Data Cleaning"
   ]
  },
  {
   "cell_type": "raw",
   "id": "f22d128a",
   "metadata": {},
   "source": [
    "Points covered under this section: \n",
    "    • Removing unwanted columns \n",
    "    • Keeping only consistent teams \n",
    "    • Removing the first 5 overs data in every match \n",
    "    • Converting the column 'date' from string into datetime object"
   ]
  },
  {
   "cell_type": "code",
   "execution_count": 23,
   "id": "4a0e0eac",
   "metadata": {},
   "outputs": [
    {
     "name": "stdout",
     "output_type": "stream",
     "text": [
      "Before removing unwanted columns: (76014, 15)\n",
      "After removing unwanted columns: (76014, 9)\n"
     ]
    }
   ],
   "source": [
    "# Removing unwanted columns\n",
    "columns_to_remove = ['mid', 'venue', 'batsman', 'bowler', 'striker', 'non-striker']\n",
    "\n",
    "print('Before removing unwanted columns: {}'.format(data.shape))\n",
    "data.drop(labels=columns_to_remove, axis=1, inplace=True)\n",
    "print('After removing unwanted columns: {}'.format(data.shape))"
   ]
  },
  {
   "cell_type": "code",
   "execution_count": 24,
   "id": "8efd8986",
   "metadata": {},
   "outputs": [
    {
     "data": {
      "text/plain": [
       "Index(['date', 'bat_team', 'bowl_team', 'runs', 'wickets', 'overs',\n",
       "       'runs_last_5', 'wickets_last_5', 'total'],\n",
       "      dtype='object')"
      ]
     },
     "execution_count": 24,
     "metadata": {},
     "output_type": "execute_result"
    }
   ],
   "source": [
    "data.columns"
   ]
  },
  {
   "cell_type": "code",
   "execution_count": 25,
   "id": "91721cf4",
   "metadata": {},
   "outputs": [
    {
     "data": {
      "text/html": [
       "<div>\n",
       "<style scoped>\n",
       "    .dataframe tbody tr th:only-of-type {\n",
       "        vertical-align: middle;\n",
       "    }\n",
       "\n",
       "    .dataframe tbody tr th {\n",
       "        vertical-align: top;\n",
       "    }\n",
       "\n",
       "    .dataframe thead th {\n",
       "        text-align: right;\n",
       "    }\n",
       "</style>\n",
       "<table border=\"1\" class=\"dataframe\">\n",
       "  <thead>\n",
       "    <tr style=\"text-align: right;\">\n",
       "      <th></th>\n",
       "      <th>date</th>\n",
       "      <th>bat_team</th>\n",
       "      <th>bowl_team</th>\n",
       "      <th>runs</th>\n",
       "      <th>wickets</th>\n",
       "      <th>overs</th>\n",
       "      <th>runs_last_5</th>\n",
       "      <th>wickets_last_5</th>\n",
       "      <th>total</th>\n",
       "    </tr>\n",
       "  </thead>\n",
       "  <tbody>\n",
       "    <tr>\n",
       "      <th>0</th>\n",
       "      <td>2008-04-18</td>\n",
       "      <td>Kolkata Knight Riders</td>\n",
       "      <td>Royal Challengers Bangalore</td>\n",
       "      <td>1</td>\n",
       "      <td>0</td>\n",
       "      <td>0.1</td>\n",
       "      <td>1</td>\n",
       "      <td>0</td>\n",
       "      <td>222</td>\n",
       "    </tr>\n",
       "    <tr>\n",
       "      <th>1</th>\n",
       "      <td>2008-04-18</td>\n",
       "      <td>Kolkata Knight Riders</td>\n",
       "      <td>Royal Challengers Bangalore</td>\n",
       "      <td>1</td>\n",
       "      <td>0</td>\n",
       "      <td>0.2</td>\n",
       "      <td>1</td>\n",
       "      <td>0</td>\n",
       "      <td>222</td>\n",
       "    </tr>\n",
       "    <tr>\n",
       "      <th>2</th>\n",
       "      <td>2008-04-18</td>\n",
       "      <td>Kolkata Knight Riders</td>\n",
       "      <td>Royal Challengers Bangalore</td>\n",
       "      <td>2</td>\n",
       "      <td>0</td>\n",
       "      <td>0.2</td>\n",
       "      <td>2</td>\n",
       "      <td>0</td>\n",
       "      <td>222</td>\n",
       "    </tr>\n",
       "    <tr>\n",
       "      <th>3</th>\n",
       "      <td>2008-04-18</td>\n",
       "      <td>Kolkata Knight Riders</td>\n",
       "      <td>Royal Challengers Bangalore</td>\n",
       "      <td>2</td>\n",
       "      <td>0</td>\n",
       "      <td>0.3</td>\n",
       "      <td>2</td>\n",
       "      <td>0</td>\n",
       "      <td>222</td>\n",
       "    </tr>\n",
       "    <tr>\n",
       "      <th>4</th>\n",
       "      <td>2008-04-18</td>\n",
       "      <td>Kolkata Knight Riders</td>\n",
       "      <td>Royal Challengers Bangalore</td>\n",
       "      <td>2</td>\n",
       "      <td>0</td>\n",
       "      <td>0.4</td>\n",
       "      <td>2</td>\n",
       "      <td>0</td>\n",
       "      <td>222</td>\n",
       "    </tr>\n",
       "  </tbody>\n",
       "</table>\n",
       "</div>"
      ],
      "text/plain": [
       "         date               bat_team                    bowl_team  runs  \\\n",
       "0  2008-04-18  Kolkata Knight Riders  Royal Challengers Bangalore     1   \n",
       "1  2008-04-18  Kolkata Knight Riders  Royal Challengers Bangalore     1   \n",
       "2  2008-04-18  Kolkata Knight Riders  Royal Challengers Bangalore     2   \n",
       "3  2008-04-18  Kolkata Knight Riders  Royal Challengers Bangalore     2   \n",
       "4  2008-04-18  Kolkata Knight Riders  Royal Challengers Bangalore     2   \n",
       "\n",
       "   wickets  overs  runs_last_5  wickets_last_5  total  \n",
       "0        0    0.1            1               0    222  \n",
       "1        0    0.2            1               0    222  \n",
       "2        0    0.2            2               0    222  \n",
       "3        0    0.3            2               0    222  \n",
       "4        0    0.4            2               0    222  "
      ]
     },
     "execution_count": 25,
     "metadata": {},
     "output_type": "execute_result"
    }
   ],
   "source": [
    "data.head()"
   ]
  },
  {
   "cell_type": "code",
   "execution_count": 26,
   "id": "384beab8",
   "metadata": {},
   "outputs": [
    {
     "data": {
      "text/plain": [
       "array(['Kolkata Knight Riders', 'Chennai Super Kings', 'Rajasthan Royals',\n",
       "       'Mumbai Indians', 'Deccan Chargers', 'Kings XI Punjab',\n",
       "       'Royal Challengers Bangalore', 'Delhi Daredevils',\n",
       "       'Kochi Tuskers Kerala', 'Pune Warriors', 'Sunrisers Hyderabad',\n",
       "       'Rising Pune Supergiants', 'Gujarat Lions',\n",
       "       'Rising Pune Supergiant'], dtype=object)"
      ]
     },
     "execution_count": 26,
     "metadata": {},
     "output_type": "execute_result"
    }
   ],
   "source": [
    "data['bat_team'].unique()"
   ]
  },
  {
   "cell_type": "code",
   "execution_count": 27,
   "id": "4f11b83f",
   "metadata": {},
   "outputs": [],
   "source": [
    "consistent_teams = ['Kolkata Knight Riders', 'Chennai Super Kings', 'Rajasthan Royals',\n",
    "                    'Mumbai Indians', 'Kings XI Punjab', 'Royal Challengers Bangalore',\n",
    "                    'Delhi Daredevils', 'Sunrisers Hyderabad', 'Gujarat Lions']"
   ]
  },
  {
   "cell_type": "code",
   "execution_count": 28,
   "id": "e5e370cb",
   "metadata": {},
   "outputs": [
    {
     "name": "stdout",
     "output_type": "stream",
     "text": [
      "Before removing inconsistent teams: (76014, 9)\n",
      "After removing inconsistent teams: (57017, 9)\n"
     ]
    }
   ],
   "source": [
    "# Keeping only consistent teams\n",
    "print('Before removing inconsistent teams: {}'.format(data.shape))\n",
    "data = data[(data['bat_team'].isin(consistent_teams)) & (data['bowl_team'].isin(consistent_teams))]\n",
    "print('After removing inconsistent teams: {}'.format(data.shape))"
   ]
  },
  {
   "cell_type": "code",
   "execution_count": 29,
   "id": "a0369c6d",
   "metadata": {},
   "outputs": [
    {
     "data": {
      "text/plain": [
       "array(['Kolkata Knight Riders', 'Chennai Super Kings', 'Rajasthan Royals',\n",
       "       'Mumbai Indians', 'Kings XI Punjab', 'Royal Challengers Bangalore',\n",
       "       'Delhi Daredevils', 'Sunrisers Hyderabad', 'Gujarat Lions'],\n",
       "      dtype=object)"
      ]
     },
     "execution_count": 29,
     "metadata": {},
     "output_type": "execute_result"
    }
   ],
   "source": [
    "data['bat_team'].unique()"
   ]
  },
  {
   "cell_type": "code",
   "execution_count": 30,
   "id": "4597713f",
   "metadata": {},
   "outputs": [
    {
     "data": {
      "text/plain": [
       "array(['Royal Challengers Bangalore', 'Kings XI Punjab',\n",
       "       'Delhi Daredevils', 'Rajasthan Royals', 'Mumbai Indians',\n",
       "       'Chennai Super Kings', 'Kolkata Knight Riders',\n",
       "       'Sunrisers Hyderabad', 'Gujarat Lions'], dtype=object)"
      ]
     },
     "execution_count": 30,
     "metadata": {},
     "output_type": "execute_result"
    }
   ],
   "source": [
    "data['bowl_team'].unique()"
   ]
  },
  {
   "cell_type": "code",
   "execution_count": 31,
   "id": "6ef47938",
   "metadata": {},
   "outputs": [
    {
     "name": "stdout",
     "output_type": "stream",
     "text": [
      "Before removing first 5 overs data: (57017, 9)\n",
      "After removing first 5 overs data: (42512, 9)\n"
     ]
    }
   ],
   "source": [
    "# Removing the first 5 overs data in every match\n",
    "print('Before removing first 5 overs data: {}'.format(data.shape))\n",
    "data = data[data['overs']>=5.0]\n",
    "print('After removing first 5 overs data: {}'.format(data.shape))"
   ]
  },
  {
   "cell_type": "code",
   "execution_count": 33,
   "id": "af6528e4",
   "metadata": {},
   "outputs": [
    {
     "name": "stdout",
     "output_type": "stream",
     "text": [
      "Before converting 'date' column from string to datetime object: <class 'str'>\n",
      "After converting 'date' column from string to datetime object: <class 'pandas._libs.tslibs.timestamps.Timestamp'>\n"
     ]
    }
   ],
   "source": [
    "# Converting the column 'date' from string into datetime object\n",
    "\n",
    "print(\"Before converting 'date' column from string to datetime object: {}\".format(type(data.iloc[0,0])))\n",
    "data['date'] = data['date'].apply(lambda x: datetime.strptime(x, '%Y-%m-%d'))\n",
    "print(\"After converting 'date' column from string to datetime object: {}\".format(type(data.iloc[0,0])))"
   ]
  },
  {
   "cell_type": "code",
   "execution_count": 34,
   "id": "f9f6a8ba",
   "metadata": {},
   "outputs": [
    {
     "data": {
      "image/png": "[encoded data removed]",
      "text/plain": [
       "<Figure size 936x720 with 2 Axes>"
      ]
     },
     "metadata": {
      "needs_background": "light"
     },
     "output_type": "display_data"
    }
   ],
   "source": [
    "# Selecting correlated features using Heatmap\n",
    "# Get correlation of all the features of the dataset\n",
    "corr_matrix = data.corr()\n",
    "top_corr_features = corr_matrix.index\n",
    "\n",
    "# Plotting the heatmap\n",
    "plt.figure(figsize=(13,10))\n",
    "g = sns.heatmap(data=data[top_corr_features].corr(), annot=True, cmap='RdYlGn')"
   ]
  },
  {
   "cell_type": "markdown",
   "id": "d97b1add",
   "metadata": {},
   "source": [
    "## Data Preprocessing"
   ]
  },
  {
   "cell_type": "raw",
   "id": "4735a833",
   "metadata": {},
   "source": [
    "• Handling categorical features  \n",
    "• Splitting dataset into train and test set on the basis of date"
   ]
  },
  {
   "cell_type": "code",
   "execution_count": 36,
   "id": "b5f72cf1",
   "metadata": {},
   "outputs": [
    {
     "data": {
      "text/plain": [
       "Index(['date', 'runs', 'wickets', 'overs', 'runs_last_5', 'wickets_last_5',\n",
       "       'total', 'bat_team_Chennai Super Kings', 'bat_team_Delhi Daredevils',\n",
       "       'bat_team_Gujarat Lions', 'bat_team_Kings XI Punjab',\n",
       "       'bat_team_Kolkata Knight Riders', 'bat_team_Mumbai Indians',\n",
       "       'bat_team_Rajasthan Royals', 'bat_team_Royal Challengers Bangalore',\n",
       "       'bat_team_Sunrisers Hyderabad', 'bowl_team_Chennai Super Kings',\n",
       "       'bowl_team_Delhi Daredevils', 'bowl_team_Gujarat Lions',\n",
       "       'bowl_team_Kings XI Punjab', 'bowl_team_Kolkata Knight Riders',\n",
       "       'bowl_team_Mumbai Indians', 'bowl_team_Rajasthan Royals',\n",
       "       'bowl_team_Royal Challengers Bangalore',\n",
       "       'bowl_team_Sunrisers Hyderabad'],\n",
       "      dtype='object')"
      ]
     },
     "execution_count": 36,
     "metadata": {},
     "output_type": "execute_result"
    }
   ],
   "source": [
    "#Converting categorical features using OneHotEncoding method\n",
    "encoded_df = pd.get_dummies(data=data, columns=['bat_team', 'bowl_team'])\n",
    "encoded_df.columns"
   ]
  },
  {
   "cell_type": "code",
   "execution_count": 37,
   "id": "10f4267d",
   "metadata": {},
   "outputs": [
    {
     "data": {
      "text/html": [
       "<div>\n",
       "<style scoped>\n",
       "    .dataframe tbody tr th:only-of-type {\n",
       "        vertical-align: middle;\n",
       "    }\n",
       "\n",
       "    .dataframe tbody tr th {\n",
       "        vertical-align: top;\n",
       "    }\n",
       "\n",
       "    .dataframe thead th {\n",
       "        text-align: right;\n",
       "    }\n",
       "</style>\n",
       "<table border=\"1\" class=\"dataframe\">\n",
       "  <thead>\n",
       "    <tr style=\"text-align: right;\">\n",
       "      <th></th>\n",
       "      <th>date</th>\n",
       "      <th>runs</th>\n",
       "      <th>wickets</th>\n",
       "      <th>overs</th>\n",
       "      <th>runs_last_5</th>\n",
       "      <th>wickets_last_5</th>\n",
       "      <th>total</th>\n",
       "      <th>bat_team_Chennai Super Kings</th>\n",
       "      <th>bat_team_Delhi Daredevils</th>\n",
       "      <th>bat_team_Gujarat Lions</th>\n",
       "      <th>...</th>\n",
       "      <th>bat_team_Sunrisers Hyderabad</th>\n",
       "      <th>bowl_team_Chennai Super Kings</th>\n",
       "      <th>bowl_team_Delhi Daredevils</th>\n",
       "      <th>bowl_team_Gujarat Lions</th>\n",
       "      <th>bowl_team_Kings XI Punjab</th>\n",
       "      <th>bowl_team_Kolkata Knight Riders</th>\n",
       "      <th>bowl_team_Mumbai Indians</th>\n",
       "      <th>bowl_team_Rajasthan Royals</th>\n",
       "      <th>bowl_team_Royal Challengers Bangalore</th>\n",
       "      <th>bowl_team_Sunrisers Hyderabad</th>\n",
       "    </tr>\n",
       "  </thead>\n",
       "  <tbody>\n",
       "    <tr>\n",
       "      <th>32</th>\n",
       "      <td>2008-04-18</td>\n",
       "      <td>61</td>\n",
       "      <td>0</td>\n",
       "      <td>5.1</td>\n",
       "      <td>59</td>\n",
       "      <td>0</td>\n",
       "      <td>222</td>\n",
       "      <td>0</td>\n",
       "      <td>0</td>\n",
       "      <td>0</td>\n",
       "      <td>...</td>\n",
       "      <td>0</td>\n",
       "      <td>0</td>\n",
       "      <td>0</td>\n",
       "      <td>0</td>\n",
       "      <td>0</td>\n",
       "      <td>0</td>\n",
       "      <td>0</td>\n",
       "      <td>0</td>\n",
       "      <td>1</td>\n",
       "      <td>0</td>\n",
       "    </tr>\n",
       "    <tr>\n",
       "      <th>33</th>\n",
       "      <td>2008-04-18</td>\n",
       "      <td>61</td>\n",
       "      <td>1</td>\n",
       "      <td>5.2</td>\n",
       "      <td>59</td>\n",
       "      <td>1</td>\n",
       "      <td>222</td>\n",
       "      <td>0</td>\n",
       "      <td>0</td>\n",
       "      <td>0</td>\n",
       "      <td>...</td>\n",
       "      <td>0</td>\n",
       "      <td>0</td>\n",
       "      <td>0</td>\n",
       "      <td>0</td>\n",
       "      <td>0</td>\n",
       "      <td>0</td>\n",
       "      <td>0</td>\n",
       "      <td>0</td>\n",
       "      <td>1</td>\n",
       "      <td>0</td>\n",
       "    </tr>\n",
       "    <tr>\n",
       "      <th>34</th>\n",
       "      <td>2008-04-18</td>\n",
       "      <td>61</td>\n",
       "      <td>1</td>\n",
       "      <td>5.3</td>\n",
       "      <td>59</td>\n",
       "      <td>1</td>\n",
       "      <td>222</td>\n",
       "      <td>0</td>\n",
       "      <td>0</td>\n",
       "      <td>0</td>\n",
       "      <td>...</td>\n",
       "      <td>0</td>\n",
       "      <td>0</td>\n",
       "      <td>0</td>\n",
       "      <td>0</td>\n",
       "      <td>0</td>\n",
       "      <td>0</td>\n",
       "      <td>0</td>\n",
       "      <td>0</td>\n",
       "      <td>1</td>\n",
       "      <td>0</td>\n",
       "    </tr>\n",
       "    <tr>\n",
       "      <th>35</th>\n",
       "      <td>2008-04-18</td>\n",
       "      <td>61</td>\n",
       "      <td>1</td>\n",
       "      <td>5.4</td>\n",
       "      <td>59</td>\n",
       "      <td>1</td>\n",
       "      <td>222</td>\n",
       "      <td>0</td>\n",
       "      <td>0</td>\n",
       "      <td>0</td>\n",
       "      <td>...</td>\n",
       "      <td>0</td>\n",
       "      <td>0</td>\n",
       "      <td>0</td>\n",
       "      <td>0</td>\n",
       "      <td>0</td>\n",
       "      <td>0</td>\n",
       "      <td>0</td>\n",
       "      <td>0</td>\n",
       "      <td>1</td>\n",
       "      <td>0</td>\n",
       "    </tr>\n",
       "    <tr>\n",
       "      <th>36</th>\n",
       "      <td>2008-04-18</td>\n",
       "      <td>61</td>\n",
       "      <td>1</td>\n",
       "      <td>5.5</td>\n",
       "      <td>58</td>\n",
       "      <td>1</td>\n",
       "      <td>222</td>\n",
       "      <td>0</td>\n",
       "      <td>0</td>\n",
       "      <td>0</td>\n",
       "      <td>...</td>\n",
       "      <td>0</td>\n",
       "      <td>0</td>\n",
       "      <td>0</td>\n",
       "      <td>0</td>\n",
       "      <td>0</td>\n",
       "      <td>0</td>\n",
       "      <td>0</td>\n",
       "      <td>0</td>\n",
       "      <td>1</td>\n",
       "      <td>0</td>\n",
       "    </tr>\n",
       "  </tbody>\n",
       "</table>\n",
       "<p>5 rows × 25 columns</p>\n",
       "</div>"
      ],
      "text/plain": [
       "         date  runs  wickets  overs  runs_last_5  wickets_last_5  total  \\\n",
       "32 2008-04-18    61        0    5.1           59               0    222   \n",
       "33 2008-04-18    61        1    5.2           59               1    222   \n",
       "34 2008-04-18    61        1    5.3           59               1    222   \n",
       "35 2008-04-18    61        1    5.4           59               1    222   \n",
       "36 2008-04-18    61        1    5.5           58               1    222   \n",
       "\n",
       "    bat_team_Chennai Super Kings  bat_team_Delhi Daredevils  \\\n",
       "32                             0                          0   \n",
       "33                             0                          0   \n",
       "34                             0                          0   \n",
       "35                             0                          0   \n",
       "36                             0                          0   \n",
       "\n",
       "    bat_team_Gujarat Lions  ...  bat_team_Sunrisers Hyderabad  \\\n",
       "32                       0  ...                             0   \n",
       "33                       0  ...                             0   \n",
       "34                       0  ...                             0   \n",
       "35                       0  ...                             0   \n",
       "36                       0  ...                             0   \n",
       "\n",
       "    bowl_team_Chennai Super Kings  bowl_team_Delhi Daredevils  \\\n",
       "32                              0                           0   \n",
       "33                              0                           0   \n",
       "34                              0                           0   \n",
       "35                              0                           0   \n",
       "36                              0                           0   \n",
       "\n",
       "    bowl_team_Gujarat Lions  bowl_team_Kings XI Punjab  \\\n",
       "32                        0                          0   \n",
       "33                        0                          0   \n",
       "34                        0                          0   \n",
       "35                        0                          0   \n",
       "36                        0                          0   \n",
       "\n",
       "    bowl_team_Kolkata Knight Riders  bowl_team_Mumbai Indians  \\\n",
       "32                                0                         0   \n",
       "33                                0                         0   \n",
       "34                                0                         0   \n",
       "35                                0                         0   \n",
       "36                                0                         0   \n",
       "\n",
       "    bowl_team_Rajasthan Royals  bowl_team_Royal Challengers Bangalore  \\\n",
       "32                           0                                      1   \n",
       "33                           0                                      1   \n",
       "34                           0                                      1   \n",
       "35                           0                                      1   \n",
       "36                           0                                      1   \n",
       "\n",
       "    bowl_team_Sunrisers Hyderabad  \n",
       "32                              0  \n",
       "33                              0  \n",
       "34                              0  \n",
       "35                              0  \n",
       "36                              0  \n",
       "\n",
       "[5 rows x 25 columns]"
      ]
     },
     "execution_count": 37,
     "metadata": {},
     "output_type": "execute_result"
    }
   ],
   "source": [
    "encoded_df.head()"
   ]
  },
  {
   "cell_type": "code",
   "execution_count": 38,
   "id": "5103df60",
   "metadata": {},
   "outputs": [],
   "source": [
    "# Rearranging the columns\n",
    "encoded_df = encoded_df[['date', 'bat_team_Chennai Super Kings', 'bat_team_Delhi Daredevils', 'bat_team_Kings XI Punjab',\n",
    "              'bat_team_Kolkata Knight Riders', 'bat_team_Mumbai Indians', 'bat_team_Rajasthan Royals',\n",
    "              'bat_team_Royal Challengers Bangalore', 'bat_team_Sunrisers Hyderabad',\n",
    "              'bowl_team_Chennai Super Kings', 'bowl_team_Delhi Daredevils', 'bowl_team_Kings XI Punjab',\n",
    "              'bowl_team_Kolkata Knight Riders', 'bowl_team_Mumbai Indians', 'bowl_team_Rajasthan Royals',\n",
    "              'bowl_team_Royal Challengers Bangalore', 'bowl_team_Sunrisers Hyderabad',\n",
    "              'overs', 'runs', 'wickets', 'runs_last_5', 'wickets_last_5', 'total']]"
   ]
  },
  {
   "cell_type": "code",
   "execution_count": 39,
   "id": "6c0a85a2",
   "metadata": {},
   "outputs": [
    {
     "data": {
      "text/html": [
       "<div>\n",
       "<style scoped>\n",
       "    .dataframe tbody tr th:only-of-type {\n",
       "        vertical-align: middle;\n",
       "    }\n",
       "\n",
       "    .dataframe tbody tr th {\n",
       "        vertical-align: top;\n",
       "    }\n",
       "\n",
       "    .dataframe thead th {\n",
       "        text-align: right;\n",
       "    }\n",
       "</style>\n",
       "<table border=\"1\" class=\"dataframe\">\n",
       "  <thead>\n",
       "    <tr style=\"text-align: right;\">\n",
       "      <th></th>\n",
       "      <th>date</th>\n",
       "      <th>bat_team_Chennai Super Kings</th>\n",
       "      <th>bat_team_Delhi Daredevils</th>\n",
       "      <th>bat_team_Kings XI Punjab</th>\n",
       "      <th>bat_team_Kolkata Knight Riders</th>\n",
       "      <th>bat_team_Mumbai Indians</th>\n",
       "      <th>bat_team_Rajasthan Royals</th>\n",
       "      <th>bat_team_Royal Challengers Bangalore</th>\n",
       "      <th>bat_team_Sunrisers Hyderabad</th>\n",
       "      <th>bowl_team_Chennai Super Kings</th>\n",
       "      <th>...</th>\n",
       "      <th>bowl_team_Mumbai Indians</th>\n",
       "      <th>bowl_team_Rajasthan Royals</th>\n",
       "      <th>bowl_team_Royal Challengers Bangalore</th>\n",
       "      <th>bowl_team_Sunrisers Hyderabad</th>\n",
       "      <th>overs</th>\n",
       "      <th>runs</th>\n",
       "      <th>wickets</th>\n",
       "      <th>runs_last_5</th>\n",
       "      <th>wickets_last_5</th>\n",
       "      <th>total</th>\n",
       "    </tr>\n",
       "  </thead>\n",
       "  <tbody>\n",
       "    <tr>\n",
       "      <th>32</th>\n",
       "      <td>2008-04-18</td>\n",
       "      <td>0</td>\n",
       "      <td>0</td>\n",
       "      <td>0</td>\n",
       "      <td>1</td>\n",
       "      <td>0</td>\n",
       "      <td>0</td>\n",
       "      <td>0</td>\n",
       "      <td>0</td>\n",
       "      <td>0</td>\n",
       "      <td>...</td>\n",
       "      <td>0</td>\n",
       "      <td>0</td>\n",
       "      <td>1</td>\n",
       "      <td>0</td>\n",
       "      <td>5.1</td>\n",
       "      <td>61</td>\n",
       "      <td>0</td>\n",
       "      <td>59</td>\n",
       "      <td>0</td>\n",
       "      <td>222</td>\n",
       "    </tr>\n",
       "    <tr>\n",
       "      <th>33</th>\n",
       "      <td>2008-04-18</td>\n",
       "      <td>0</td>\n",
       "      <td>0</td>\n",
       "      <td>0</td>\n",
       "      <td>1</td>\n",
       "      <td>0</td>\n",
       "      <td>0</td>\n",
       "      <td>0</td>\n",
       "      <td>0</td>\n",
       "      <td>0</td>\n",
       "      <td>...</td>\n",
       "      <td>0</td>\n",
       "      <td>0</td>\n",
       "      <td>1</td>\n",
       "      <td>0</td>\n",
       "      <td>5.2</td>\n",
       "      <td>61</td>\n",
       "      <td>1</td>\n",
       "      <td>59</td>\n",
       "      <td>1</td>\n",
       "      <td>222</td>\n",
       "    </tr>\n",
       "    <tr>\n",
       "      <th>34</th>\n",
       "      <td>2008-04-18</td>\n",
       "      <td>0</td>\n",
       "      <td>0</td>\n",
       "      <td>0</td>\n",
       "      <td>1</td>\n",
       "      <td>0</td>\n",
       "      <td>0</td>\n",
       "      <td>0</td>\n",
       "      <td>0</td>\n",
       "      <td>0</td>\n",
       "      <td>...</td>\n",
       "      <td>0</td>\n",
       "      <td>0</td>\n",
       "      <td>1</td>\n",
       "      <td>0</td>\n",
       "      <td>5.3</td>\n",
       "      <td>61</td>\n",
       "      <td>1</td>\n",
       "      <td>59</td>\n",
       "      <td>1</td>\n",
       "      <td>222</td>\n",
       "    </tr>\n",
       "    <tr>\n",
       "      <th>35</th>\n",
       "      <td>2008-04-18</td>\n",
       "      <td>0</td>\n",
       "      <td>0</td>\n",
       "      <td>0</td>\n",
       "      <td>1</td>\n",
       "      <td>0</td>\n",
       "      <td>0</td>\n",
       "      <td>0</td>\n",
       "      <td>0</td>\n",
       "      <td>0</td>\n",
       "      <td>...</td>\n",
       "      <td>0</td>\n",
       "      <td>0</td>\n",
       "      <td>1</td>\n",
       "      <td>0</td>\n",
       "      <td>5.4</td>\n",
       "      <td>61</td>\n",
       "      <td>1</td>\n",
       "      <td>59</td>\n",
       "      <td>1</td>\n",
       "      <td>222</td>\n",
       "    </tr>\n",
       "    <tr>\n",
       "      <th>36</th>\n",
       "      <td>2008-04-18</td>\n",
       "      <td>0</td>\n",
       "      <td>0</td>\n",
       "      <td>0</td>\n",
       "      <td>1</td>\n",
       "      <td>0</td>\n",
       "      <td>0</td>\n",
       "      <td>0</td>\n",
       "      <td>0</td>\n",
       "      <td>0</td>\n",
       "      <td>...</td>\n",
       "      <td>0</td>\n",
       "      <td>0</td>\n",
       "      <td>1</td>\n",
       "      <td>0</td>\n",
       "      <td>5.5</td>\n",
       "      <td>61</td>\n",
       "      <td>1</td>\n",
       "      <td>58</td>\n",
       "      <td>1</td>\n",
       "      <td>222</td>\n",
       "    </tr>\n",
       "  </tbody>\n",
       "</table>\n",
       "<p>5 rows × 23 columns</p>\n",
       "</div>"
      ],
      "text/plain": [
       "         date  bat_team_Chennai Super Kings  bat_team_Delhi Daredevils  \\\n",
       "32 2008-04-18                             0                          0   \n",
       "33 2008-04-18                             0                          0   \n",
       "34 2008-04-18                             0                          0   \n",
       "35 2008-04-18                             0                          0   \n",
       "36 2008-04-18                             0                          0   \n",
       "\n",
       "    bat_team_Kings XI Punjab  bat_team_Kolkata Knight Riders  \\\n",
       "32                         0                               1   \n",
       "33                         0                               1   \n",
       "34                         0                               1   \n",
       "35                         0                               1   \n",
       "36                         0                               1   \n",
       "\n",
       "    bat_team_Mumbai Indians  bat_team_Rajasthan Royals  \\\n",
       "32                        0                          0   \n",
       "33                        0                          0   \n",
       "34                        0                          0   \n",
       "35                        0                          0   \n",
       "36                        0                          0   \n",
       "\n",
       "    bat_team_Royal Challengers Bangalore  bat_team_Sunrisers Hyderabad  \\\n",
       "32                                     0                             0   \n",
       "33                                     0                             0   \n",
       "34                                     0                             0   \n",
       "35                                     0                             0   \n",
       "36                                     0                             0   \n",
       "\n",
       "    bowl_team_Chennai Super Kings  ...  bowl_team_Mumbai Indians  \\\n",
       "32                              0  ...                         0   \n",
       "33                              0  ...                         0   \n",
       "34                              0  ...                         0   \n",
       "35                              0  ...                         0   \n",
       "36                              0  ...                         0   \n",
       "\n",
       "    bowl_team_Rajasthan Royals  bowl_team_Royal Challengers Bangalore  \\\n",
       "32                           0                                      1   \n",
       "33                           0                                      1   \n",
       "34                           0                                      1   \n",
       "35                           0                                      1   \n",
       "36                           0                                      1   \n",
       "\n",
       "    bowl_team_Sunrisers Hyderabad  overs  runs  wickets  runs_last_5  \\\n",
       "32                              0    5.1    61        0           59   \n",
       "33                              0    5.2    61        1           59   \n",
       "34                              0    5.3    61        1           59   \n",
       "35                              0    5.4    61        1           59   \n",
       "36                              0    5.5    61        1           58   \n",
       "\n",
       "    wickets_last_5  total  \n",
       "32               0    222  \n",
       "33               1    222  \n",
       "34               1    222  \n",
       "35               1    222  \n",
       "36               1    222  \n",
       "\n",
       "[5 rows x 23 columns]"
      ]
     },
     "execution_count": 39,
     "metadata": {},
     "output_type": "execute_result"
    }
   ],
   "source": [
    "encoded_df.head()"
   ]
  },
  {
   "cell_type": "code",
   "execution_count": 40,
   "id": "8980d1b9",
   "metadata": {},
   "outputs": [
    {
     "name": "stdout",
     "output_type": "stream",
     "text": [
      "Training set: (38632, 21) and Test set: (3880, 21)\n"
     ]
    }
   ],
   "source": [
    "# Splitting the data into train and test set\n",
    "X_train = encoded_df.drop(labels='total', axis=1)[encoded_df['date'].dt.year <= 2016]\n",
    "X_test = encoded_df.drop(labels='total', axis=1)[encoded_df['date'].dt.year >= 2017]\n",
    "\n",
    "y_train = encoded_df[encoded_df['date'].dt.year <= 2016]['total'].values\n",
    "y_test = encoded_df[encoded_df['date'].dt.year >= 2017]['total'].values\n",
    "\n",
    "# Removing the 'date' column\n",
    "X_train.drop(labels='date', axis=True, inplace=True)\n",
    "X_test.drop(labels='date', axis=True, inplace=True)\n",
    "\n",
    "print(\"Training set: {} and Test set: {}\".format(X_train.shape, X_test.shape))"
   ]
  },
  {
   "cell_type": "markdown",
   "id": "c8f5df7f",
   "metadata": {},
   "source": [
    "## Model Building"
   ]
  },
  {
   "cell_type": "raw",
   "id": "1441137a",
   "metadata": {},
   "source": [
    "5 different algorithms: \n",
    "    • Linear Regression  \n",
    "    • Decision Tree Regression  \n",
    "    • Random Forest Regression \n",
    "    • Boosting Algorithm \n",
    "    • Adaptive Boosting (AdaBoost) Algorithm "
   ]
  },
  {
   "cell_type": "markdown",
   "id": "d3a086c3",
   "metadata": {},
   "source": [
    "## Linear Regression"
   ]
  },
  {
   "cell_type": "code",
   "execution_count": 41,
   "id": "9474c6e7",
   "metadata": {},
   "outputs": [
    {
     "data": {
      "text/plain": [
       "LinearRegression()"
      ]
     },
     "execution_count": 41,
     "metadata": {},
     "output_type": "execute_result"
    }
   ],
   "source": [
    "# Linear Regression Model\n",
    "\n",
    "linear_regressor = LinearRegression()\n",
    "linear_regressor.fit(X_train,y_train)"
   ]
  },
  {
   "cell_type": "code",
   "execution_count": 42,
   "id": "c989f401",
   "metadata": {},
   "outputs": [],
   "source": [
    "# Predicting results\n",
    "y_pred_lr = linear_regressor.predict(X_test)"
   ]
  },
  {
   "cell_type": "code",
   "execution_count": 43,
   "id": "4f0c8245",
   "metadata": {},
   "outputs": [
    {
     "name": "stdout",
     "output_type": "stream",
     "text": [
      "---- Linear Regression - Model Evaluation ----\n",
      "Mean Absolute Error (MAE): 12.316802735658502\n",
      "Mean Squared Error (MSE): 257.0193007812253\n",
      "Root Mean Squared Error (RMSE): 16.031821505406842\n"
     ]
    }
   ],
   "source": [
    "# Linear Regression - Model Evaluation\n",
    "print(\"---- Linear Regression - Model Evaluation ----\")\n",
    "print(\"Mean Absolute Error (MAE): {}\".format(mae(y_test, y_pred_lr)))\n",
    "print(\"Mean Squared Error (MSE): {}\".format(mse(y_test, y_pred_lr)))\n",
    "print(\"Root Mean Squared Error (RMSE): {}\".format(np.sqrt(mse(y_test, y_pred_lr))))"
   ]
  },
  {
   "cell_type": "markdown",
   "id": "e50cfea1",
   "metadata": {},
   "source": [
    "## Decision Tree"
   ]
  },
  {
   "cell_type": "code",
   "execution_count": 44,
   "id": "27ca126f",
   "metadata": {},
   "outputs": [
    {
     "data": {
      "text/plain": [
       "DecisionTreeRegressor()"
      ]
     },
     "execution_count": 44,
     "metadata": {},
     "output_type": "execute_result"
    }
   ],
   "source": [
    "# Decision Tree Regression Model\n",
    "\n",
    "decision_regressor = DecisionTreeRegressor()\n",
    "decision_regressor.fit(X_train,y_train)"
   ]
  },
  {
   "cell_type": "code",
   "execution_count": 45,
   "id": "6eefb7ab",
   "metadata": {},
   "outputs": [],
   "source": [
    "# Predicting results\n",
    "y_pred_dt = decision_regressor.predict(X_test)"
   ]
  },
  {
   "cell_type": "code",
   "execution_count": 46,
   "id": "427d1d06",
   "metadata": {},
   "outputs": [
    {
     "name": "stdout",
     "output_type": "stream",
     "text": [
      "---- Decision Tree Regression - Model Evaluation ----\n",
      "Mean Absolute Error (MAE): 18.65889175257732\n",
      "Mean Squared Error (MSE): 645.3990335051546\n",
      "Root Mean Squared Error (RMSE): 25.404704948201122\n"
     ]
    }
   ],
   "source": [
    "# Decision Tree Regression - Model Evaluation\n",
    "print(\"---- Decision Tree Regression - Model Evaluation ----\")\n",
    "print(\"Mean Absolute Error (MAE): {}\".format(mae(y_test, y_pred_dt)))\n",
    "print(\"Mean Squared Error (MSE): {}\".format(mse(y_test, y_pred_dt)))\n",
    "print(\"Root Mean Squared Error (RMSE): {}\".format(np.sqrt(mse(y_test, y_pred_dt))))"
   ]
  },
  {
   "cell_type": "markdown",
   "id": "8d562821",
   "metadata": {},
   "source": [
    "## Random Forest"
   ]
  },
  {
   "cell_type": "code",
   "execution_count": 48,
   "id": "cfbaf281",
   "metadata": {},
   "outputs": [
    {
     "data": {
      "text/plain": [
       "RandomForestRegressor()"
      ]
     },
     "execution_count": 48,
     "metadata": {},
     "output_type": "execute_result"
    }
   ],
   "source": [
    "# Random Forest Regression Model\n",
    "\n",
    "random_regressor = RandomForestRegressor()\n",
    "random_regressor.fit(X_train,y_train)"
   ]
  },
  {
   "cell_type": "code",
   "execution_count": 49,
   "id": "9b5ae768",
   "metadata": {},
   "outputs": [],
   "source": [
    "# Predicting results\n",
    "y_pred_rf = random_regressor.predict(X_test)"
   ]
  },
  {
   "cell_type": "code",
   "execution_count": 50,
   "id": "575ae528",
   "metadata": {},
   "outputs": [
    {
     "name": "stdout",
     "output_type": "stream",
     "text": [
      "---- Random Forest Regression - Model Evaluation ----\n",
      "Mean Absolute Error (MAE): 13.791058204467353\n",
      "Mean Squared Error (MSE): 331.5216036570232\n",
      "Root Mean Squared Error (RMSE): 18.207734720635163\n"
     ]
    }
   ],
   "source": [
    "# Random Forest Regression - Model Evaluation\n",
    "print(\"---- Random Forest Regression - Model Evaluation ----\")\n",
    "print(\"Mean Absolute Error (MAE): {}\".format(mae(y_test, y_pred_rf)))\n",
    "print(\"Mean Squared Error (MSE): {}\".format(mse(y_test, y_pred_rf)))\n",
    "print(\"Root Mean Squared Error (RMSE): {}\".format(np.sqrt(mse(y_test, y_pred_rf))))"
   ]
  },
  {
   "cell_type": "raw",
   "id": "feb99925",
   "metadata": {},
   "source": [
    "Note: Since Linear Regression model performs best as compared to other two, we use this model and boost it's performance using AdaBoost Algorithm"
   ]
  },
  {
   "cell_type": "markdown",
   "id": "a7721a38",
   "metadata": {},
   "source": [
    "## AdaBoost Algorithm"
   ]
  },
  {
   "cell_type": "code",
   "execution_count": 51,
   "id": "a1d3253a",
   "metadata": {},
   "outputs": [
    {
     "data": {
      "text/plain": [
       "AdaBoostRegressor(base_estimator=LinearRegression(), n_estimators=100)"
      ]
     },
     "execution_count": 51,
     "metadata": {},
     "output_type": "execute_result"
    }
   ],
   "source": [
    "# AdaBoost Model using Linear Regression as the base learner\n",
    "\n",
    "adb_regressor = AdaBoostRegressor(base_estimator=linear_regressor, n_estimators=100)\n",
    "adb_regressor.fit(X_train, y_train)"
   ]
  },
  {
   "cell_type": "code",
   "execution_count": 52,
   "id": "9a48f828",
   "metadata": {},
   "outputs": [],
   "source": [
    "# Predicting results\n",
    "y_pred_adb = adb_regressor.predict(X_test)"
   ]
  },
  {
   "cell_type": "code",
   "execution_count": 53,
   "id": "5e68e4a6",
   "metadata": {},
   "outputs": [
    {
     "name": "stdout",
     "output_type": "stream",
     "text": [
      "---- AdaBoost Regression - Model Evaluation ----\n",
      "Mean Absolute Error (MAE): 12.780162956244533\n",
      "Mean Squared Error (MSE): 269.3158518625211\n",
      "Root Mean Squared Error (RMSE): 16.410845555988914\n"
     ]
    }
   ],
   "source": [
    "# AdaBoost Regression - Model Evaluation\n",
    "print(\"---- AdaBoost Regression - Model Evaluation ----\")\n",
    "print(\"Mean Absolute Error (MAE): {}\".format(mae(y_test, y_pred_adb)))\n",
    "print(\"Mean Squared Error (MSE): {}\".format(mse(y_test, y_pred_adb)))\n",
    "print(\"Root Mean Squared Error (RMSE): {}\".format(np.sqrt(mse(y_test, y_pred_adb))))"
   ]
  },
  {
   "cell_type": "raw",
   "id": "9bf922c4",
   "metadata": {},
   "source": [
    "Note: Using AdaBoost did not reduce the error to a significant level. Hence, we will you simple linear regression model for prediction"
   ]
  },
  {
   "cell_type": "markdown",
   "id": "a5ae69b4",
   "metadata": {},
   "source": [
    "## Predictions"
   ]
  },
  {
   "cell_type": "raw",
   "id": "180ca8e2",
   "metadata": {},
   "source": [
    "• Model trained on the data from IPL Seasons 1 to 9 ie: (2008 to 2016)\n",
    "• Model tested on data from IPL Season 10 ie: (2017)\n",
    "• Model predicts on data from IPL Seasons 11 to 12 ie: (2018 to 2019)"
   ]
  },
  {
   "cell_type": "code",
   "execution_count": 54,
   "id": "bdf4a152",
   "metadata": {},
   "outputs": [],
   "source": [
    "def predict_score(batting_team='Chennai Super Kings', bowling_team='Mumbai Indians', overs=5.1, runs=50, wickets=0, runs_in_prev_5=50, wickets_in_prev_5=0):\n",
    "  temp_array = list()\n",
    "\n",
    "  # Batting Team\n",
    "  if batting_team == 'Chennai Super Kings':\n",
    "    temp_array = temp_array + [1,0,0,0,0,0,0,0]\n",
    "  elif batting_team == 'Delhi Daredevils':\n",
    "    temp_array = temp_array + [0,1,0,0,0,0,0,0]\n",
    "  elif batting_team == 'Kings XI Punjab':\n",
    "    temp_array = temp_array + [0,0,1,0,0,0,0,0]\n",
    "  elif batting_team == 'Kolkata Knight Riders':\n",
    "    temp_array = temp_array + [0,0,0,1,0,0,0,0]\n",
    "  elif batting_team == 'Mumbai Indians':\n",
    "    temp_array = temp_array + [0,0,0,0,1,0,0,0]\n",
    "  elif batting_team == 'Rajasthan Royals':\n",
    "    temp_array = temp_array + [0,0,0,0,0,1,0,0]\n",
    "  elif batting_team == 'Royal Challengers Bangalore':\n",
    "    temp_array = temp_array + [0,0,0,0,0,0,1,0]\n",
    "  elif batting_team == 'Sunrisers Hyderabad':\n",
    "    temp_array = temp_array + [0,0,0,0,0,0,0,1]\n",
    "    \n",
    "  # Bowling Team\n",
    "  if bowling_team == 'Chennai Super Kings':\n",
    "    temp_array = temp_array + [1,0,0,0,0,0,0,0]\n",
    "  elif bowling_team == 'Delhi Daredevils':\n",
    "    temp_array = temp_array + [0,1,0,0,0,0,0,0]\n",
    "  elif bowling_team == 'Kings XI Punjab':\n",
    "    temp_array = temp_array + [0,0,1,0,0,0,0,0]\n",
    "  elif bowling_team == 'Kolkata Knight Riders':\n",
    "    temp_array = temp_array + [0,0,0,1,0,0,0,0]\n",
    "  elif bowling_team == 'Mumbai Indians':\n",
    "    temp_array = temp_array + [0,0,0,0,1,0,0,0]\n",
    "  elif bowling_team == 'Rajasthan Royals':\n",
    "    temp_array = temp_array + [0,0,0,0,0,1,0,0]\n",
    "  elif bowling_team == 'Royal Challengers Bangalore':\n",
    "    temp_array = temp_array + [0,0,0,0,0,0,1,0]\n",
    "  elif bowling_team == 'Sunrisers Hyderabad':\n",
    "    temp_array = temp_array + [0,0,0,0,0,0,0,1]\n",
    "\n",
    "    # Overs, Runs, Wickets, Runs_in_prev_5, Wickets_in_prev_5\n",
    "  temp_array = temp_array + [overs, runs, wickets, runs_in_prev_5, wickets_in_prev_5]\n",
    "\n",
    "  # Converting into numpy array\n",
    "  temp_array = np.array([temp_array])\n",
    "\n",
    "  # Prediction\n",
    "  return int(linear_regressor.predict(temp_array)[0])"
   ]
  },
  {
   "cell_type": "raw",
   "id": "78cbcfb5",
   "metadata": {},
   "source": [
    "Prediction 1 : \n",
    "    • Date: 16th April 2018 \n",
    "    • IPL : Season 11 \n",
    "    • Match number: 13 \n",
    "    • Teams: Kolkata Knight Riders vs. Delhi Daredevils\n",
    "    • First Innings final score: 200/9"
   ]
  },
  {
   "cell_type": "code",
   "execution_count": 55,
   "id": "39d0385b",
   "metadata": {},
   "outputs": [
    {
     "name": "stdout",
     "output_type": "stream",
     "text": [
      "The final predicted score (range): 159 to 174\n"
     ]
    },
    {
     "name": "stderr",
     "output_type": "stream",
     "text": [
      "c:\\users\\h p\\appdata\\local\\programs\\python\\python39\\lib\\site-packages\\sklearn\\base.py:450: UserWarning: X does not have valid feature names, but LinearRegression was fitted with feature names\n",
      "  warnings.warn(\n"
     ]
    }
   ],
   "source": [
    "final_score = predict_score(\n",
    "    batting_team='Kolkata Knight Riders', \n",
    "    bowling_team='Delhi Daredevils', \n",
    "    overs=9.2, \n",
    "    runs=79, \n",
    "    wickets=2, \n",
    "    runs_in_prev_5=60, \n",
    "    wickets_in_prev_5=1)\n",
    "print(\"The final predicted score (range): {} to {}\".format(final_score-10, final_score+5))"
   ]
  },
  {
   "cell_type": "raw",
   "id": "02d3a5c3",
   "metadata": {},
   "source": [
    "Prediction 2 : \n",
    "    • Date: 30th March 2019 \n",
    "    • IPL : Season 12 \n",
    "    • Match number: 9 \n",
    "    • Teams: Mumbai Indians vs. Kings XI Punjab \n",
    "    • First Innings final score: 176/7"
   ]
  },
  {
   "cell_type": "code",
   "execution_count": 56,
   "id": "4bc609bf",
   "metadata": {},
   "outputs": [
    {
     "name": "stdout",
     "output_type": "stream",
     "text": [
      "The final predicted score (range): 179 to 194\n"
     ]
    },
    {
     "name": "stderr",
     "output_type": "stream",
     "text": [
      "c:\\users\\h p\\appdata\\local\\programs\\python\\python39\\lib\\site-packages\\sklearn\\base.py:450: UserWarning: X does not have valid feature names, but LinearRegression was fitted with feature names\n",
      "  warnings.warn(\n"
     ]
    }
   ],
   "source": [
    "final_score = predict_score(\n",
    "    batting_team='Mumbai Indians', \n",
    "    bowling_team='Kings XI Punjab', \n",
    "    overs=12.3, \n",
    "    runs=113, \n",
    "    wickets=2, \n",
    "    runs_in_prev_5=55, \n",
    "    wickets_in_prev_5=0)\n",
    "print(\"The final predicted score (range): {} to {}\".format(final_score-10, final_score+5))"
   ]
  },
  {
   "cell_type": "raw",
   "id": "d18f25d6",
   "metadata": {},
   "source": [
    "Prediction 3 : \n",
    "    • Date: 10th May 2019\n",
    "    • IPL : Season 12\n",
    "    • Match number: 59 (Eliminator)\n",
    "    • Teams: Delhi Daredevils vs. Chennai Super Kings\n",
    "    • First Innings final score: 147/9"
   ]
  },
  {
   "cell_type": "code",
   "execution_count": 57,
   "id": "7dbc1838",
   "metadata": {},
   "outputs": [
    {
     "name": "stdout",
     "output_type": "stream",
     "text": [
      "The final predicted score (range): 137 to 152\n"
     ]
    },
    {
     "name": "stderr",
     "output_type": "stream",
     "text": [
      "c:\\users\\h p\\appdata\\local\\programs\\python\\python39\\lib\\site-packages\\sklearn\\base.py:450: UserWarning: X does not have valid feature names, but LinearRegression was fitted with feature names\n",
      "  warnings.warn(\n"
     ]
    }
   ],
   "source": [
    "final_score = predict_score(\n",
    "    batting_team='Delhi Daredevils', \n",
    "    bowling_team='Chennai Super Kings', \n",
    "    overs=10.2, \n",
    "    runs=68, \n",
    "    wickets=3, \n",
    "    runs_in_prev_5=29,\n",
    "    wickets_in_prev_5=1)\n",
    "print(\"The final predicted score (range): {} to {}\".format(final_score-10, final_score+5))"
   ]
  },
  {
   "cell_type": "code",
   "execution_count": 60,
   "id": "b82b4522",
   "metadata": {},
   "outputs": [],
   "source": [
    "from joblib import Parallel, delayed\n",
    "import joblib"
   ]
  },
  {
   "cell_type": "code",
   "execution_count": 61,
   "id": "5828d23e",
   "metadata": {},
   "outputs": [
    {
     "data": {
      "text/plain": [
       "['linear_regressor.pkl']"
      ]
     },
     "execution_count": 61,
     "metadata": {},
     "output_type": "execute_result"
    }
   ],
   "source": [
    "# Save the model as a pickle in a file\n",
    "joblib.dump(linear_regressor, 'linear_regressor.pkl')"
   ]
  },
  {
   "cell_type": "code",
   "execution_count": null,
   "id": "e13d50e8",
   "metadata": {},
   "outputs": [],
   "source": []
  }
 ],
 "metadata": {
  "kernelspec": {
   "display_name": "Python 3 (ipykernel)",
   "language": "python",
   "name": "python3"
  },
  "language_info": {
   "codemirror_mode": {
    "name": "ipython",
    "version": 3
   },
   "file_extension": ".py",
   "mimetype": "text/x-python",
   "name": "python",
   "nbconvert_exporter": "python",
   "pygments_lexer": "ipython3",
   "version": "3.9.1"
  }
 },
 "nbformat": 4,
 "nbformat_minor": 5
}
